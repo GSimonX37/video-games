{
 "cells": [
  {
   "cell_type": "markdown",
   "id": "bb714247",
   "metadata": {},
   "source": [
    "# Video games (backloggd.com)\n",
    "\n",
    "**Statistical data analysis (SDA)**\n",
    "***"
   ]
  },
  {
   "cell_type": "markdown",
   "id": "63114724",
   "metadata": {},
   "source": [
    "About the site **Backloggd**:\n",
    "\n",
    "\"**Backloggd** is a place to keep your personal video game collection. Every game from every platform is here for you to log into your journal. Follow friends along the way to share your reviews and compare ratings. Then use filters to sort through your collection and see what matters to you. Keep a backlog of what you are currently playing and what you want to play, see the numbers change as you continue to log your playthroughs. There\"s Goodreads for books, Letterboxd for movies, and now Backloggd for games.\n",
    "\n",
    "All game related metadata comes from the community driven database **[IGDB](https://www.igdb.com/)**. This includes all game, company and platform data you see on the site.\" - \n",
    "from the site **[backloggd.com](https://www.backloggd.com/)**."
   ]
  },
  {
   "cell_type": "markdown",
   "id": "5e5dd81d",
   "metadata": {},
   "source": [
    "**The purpose of exploratory data analysis**: the regularities discovered at the stage of exploratory analysis should be confirmed by statistical tests. Evaluate the suitability of the discovered patterns for use in machine learning."
   ]
  },
  {
   "cell_type": "markdown",
   "id": "c823a6c8-0a40-4856-a915-d03e13989cd8",
   "metadata": {},
   "source": [
    "**Exploratory data analysis steps**:\n",
    "1. [Data overview](#data_overview).\n",
    "2. [Estimation_distributions](#estimation_distributions):\n",
    "    1. [Video game rating distribution](#video_game_rating_distribution):\n",
    "        - [normal distribution test](#normal_distribution_test);\n",
    "        - [by genres](#rating_distribution_by_genres);\n",
    "3. [Conclusions](#conclusions)\n",
    "***"
   ]
  },
  {
   "cell_type": "code",
   "execution_count": 1,
   "id": "90a78c85",
   "metadata": {},
   "outputs": [],
   "source": [
    "import ast\n",
    "import matplotlib.pyplot as plt\n",
    "import numpy as np\n",
    "import pandas as pd\n",
    "import seaborn as sns\n",
    "\n",
    "from matplotlib.gridspec import GridSpec\n",
    "from scipy import stats"
   ]
  },
  {
   "cell_type": "markdown",
   "id": "e1a2b74f-1d1a-4a7f-9e60-206faa43aaaa",
   "metadata": {},
   "source": [
    "## <a id=data_overview>Data overview</a>\n",
    "***"
   ]
  },
  {
   "cell_type": "markdown",
   "id": "b16fbdaa-7c27-4d4b-b207-feaf20d8c093",
   "metadata": {},
   "source": [
    "\n",
    "Uploading a file with **pre-processed data** at the stage of exploratory analysis."
   ]
  },
  {
   "cell_type": "code",
   "execution_count": 2,
   "id": "4fbf0e72",
   "metadata": {},
   "outputs": [],
   "source": [
    "df = pd.read_csv(\"../data/backloggd/backloggd_processed.csv\")"
   ]
  },
  {
   "cell_type": "code",
   "execution_count": 3,
   "id": "75dadc7d",
   "metadata": {},
   "outputs": [
    {
     "name": "stdout",
     "output_type": "stream",
     "text": [
      "<class 'pandas.core.frame.DataFrame'>\n",
      "RangeIndex: 74821 entries, 0 to 74820\n",
      "Data columns (total 14 columns):\n",
      " #   Column      Non-Null Count  Dtype  \n",
      "---  ------      --------------  -----  \n",
      " 0   name        74821 non-null  object \n",
      " 1   date        74821 non-null  object \n",
      " 2   developers  74821 non-null  object \n",
      " 3   rating      35224 non-null  float64\n",
      " 4   platforms   74821 non-null  object \n",
      " 5   genres      74821 non-null  object \n",
      " 6   category    74821 non-null  object \n",
      " 7   main        74821 non-null  object \n",
      " 8   reviews     74821 non-null  int64  \n",
      " 9   plays       74821 non-null  int64  \n",
      " 10  playing     74821 non-null  int64  \n",
      " 11  backlogs    74821 non-null  int64  \n",
      " 12  wishlists   74821 non-null  int64  \n",
      " 13  indie       74821 non-null  bool   \n",
      "dtypes: bool(1), float64(1), int64(5), object(7)\n",
      "memory usage: 40.6 MB\n"
     ]
    }
   ],
   "source": [
    "df.info(memory_usage=\"deep\")"
   ]
  },
  {
   "cell_type": "code",
   "execution_count": 4,
   "id": "a4ae0450",
   "metadata": {},
   "outputs": [
    {
     "data": {
      "text/html": [
       "<div>\n",
       "<style scoped>\n",
       "    .dataframe tbody tr th:only-of-type {\n",
       "        vertical-align: middle;\n",
       "    }\n",
       "\n",
       "    .dataframe tbody tr th {\n",
       "        vertical-align: top;\n",
       "    }\n",
       "\n",
       "    .dataframe thead th {\n",
       "        text-align: right;\n",
       "    }\n",
       "</style>\n",
       "<table border=\"1\" class=\"dataframe\">\n",
       "  <thead>\n",
       "    <tr style=\"text-align: right;\">\n",
       "      <th></th>\n",
       "      <th>name</th>\n",
       "      <th>date</th>\n",
       "      <th>developers</th>\n",
       "      <th>rating</th>\n",
       "      <th>platforms</th>\n",
       "      <th>genres</th>\n",
       "      <th>category</th>\n",
       "      <th>main</th>\n",
       "      <th>reviews</th>\n",
       "      <th>plays</th>\n",
       "      <th>playing</th>\n",
       "      <th>backlogs</th>\n",
       "      <th>wishlists</th>\n",
       "      <th>indie</th>\n",
       "    </tr>\n",
       "  </thead>\n",
       "  <tbody>\n",
       "    <tr>\n",
       "      <th>0</th>\n",
       "      <td>Cathode Ray Tube Amusement Device</td>\n",
       "      <td>1947-12-31</td>\n",
       "      <td>[]</td>\n",
       "      <td>3.7</td>\n",
       "      <td>['Analogue electronics']</td>\n",
       "      <td>['Point-and-Click']</td>\n",
       "      <td>main</td>\n",
       "      <td>Cathode Ray Tube Amusement Device</td>\n",
       "      <td>33</td>\n",
       "      <td>57</td>\n",
       "      <td>1</td>\n",
       "      <td>11</td>\n",
       "      <td>28</td>\n",
       "      <td>False</td>\n",
       "    </tr>\n",
       "    <tr>\n",
       "      <th>1</th>\n",
       "      <td>Bertie the Brain</td>\n",
       "      <td>1950-08-25</td>\n",
       "      <td>['Josef Kates']</td>\n",
       "      <td>1.3</td>\n",
       "      <td>['Arcade']</td>\n",
       "      <td>['Puzzle', 'Tactical']</td>\n",
       "      <td>main</td>\n",
       "      <td>Bertie the Brain</td>\n",
       "      <td>3</td>\n",
       "      <td>5</td>\n",
       "      <td>0</td>\n",
       "      <td>3</td>\n",
       "      <td>3</td>\n",
       "      <td>False</td>\n",
       "    </tr>\n",
       "    <tr>\n",
       "      <th>2</th>\n",
       "      <td>Draughts</td>\n",
       "      <td>1952-08-31</td>\n",
       "      <td>['Christopher Strachey']</td>\n",
       "      <td>NaN</td>\n",
       "      <td>['Legacy Computer']</td>\n",
       "      <td>['Card &amp; Board Game']</td>\n",
       "      <td>main</td>\n",
       "      <td>Draughts</td>\n",
       "      <td>1</td>\n",
       "      <td>3</td>\n",
       "      <td>0</td>\n",
       "      <td>1</td>\n",
       "      <td>0</td>\n",
       "      <td>False</td>\n",
       "    </tr>\n",
       "    <tr>\n",
       "      <th>3</th>\n",
       "      <td>OXO</td>\n",
       "      <td>1952-12-31</td>\n",
       "      <td>['Alexander Shafto \"Sandy\" Douglas', 'Universi...</td>\n",
       "      <td>3.5</td>\n",
       "      <td>['Windows PC', 'EDSAC']</td>\n",
       "      <td>['Puzzle', 'Strategy']</td>\n",
       "      <td>main</td>\n",
       "      <td>OXO</td>\n",
       "      <td>9</td>\n",
       "      <td>25</td>\n",
       "      <td>0</td>\n",
       "      <td>6</td>\n",
       "      <td>7</td>\n",
       "      <td>False</td>\n",
       "    </tr>\n",
       "    <tr>\n",
       "      <th>4</th>\n",
       "      <td>Pool</td>\n",
       "      <td>1954-06-26</td>\n",
       "      <td>[]</td>\n",
       "      <td>NaN</td>\n",
       "      <td>['Legacy Computer']</td>\n",
       "      <td>['Sport']</td>\n",
       "      <td>main</td>\n",
       "      <td>Pool</td>\n",
       "      <td>1</td>\n",
       "      <td>1</td>\n",
       "      <td>0</td>\n",
       "      <td>0</td>\n",
       "      <td>0</td>\n",
       "      <td>False</td>\n",
       "    </tr>\n",
       "  </tbody>\n",
       "</table>\n",
       "</div>"
      ],
      "text/plain": [
       "                                name        date  \\\n",
       "0  Cathode Ray Tube Amusement Device  1947-12-31   \n",
       "1                   Bertie the Brain  1950-08-25   \n",
       "2                           Draughts  1952-08-31   \n",
       "3                                OXO  1952-12-31   \n",
       "4                               Pool  1954-06-26   \n",
       "\n",
       "                                          developers  rating  \\\n",
       "0                                                 []     3.7   \n",
       "1                                    ['Josef Kates']     1.3   \n",
       "2                           ['Christopher Strachey']     NaN   \n",
       "3  ['Alexander Shafto \"Sandy\" Douglas', 'Universi...     3.5   \n",
       "4                                                 []     NaN   \n",
       "\n",
       "                  platforms                  genres category  \\\n",
       "0  ['Analogue electronics']     ['Point-and-Click']     main   \n",
       "1                ['Arcade']  ['Puzzle', 'Tactical']     main   \n",
       "2       ['Legacy Computer']   ['Card & Board Game']     main   \n",
       "3   ['Windows PC', 'EDSAC']  ['Puzzle', 'Strategy']     main   \n",
       "4       ['Legacy Computer']               ['Sport']     main   \n",
       "\n",
       "                                main  reviews  plays  playing  backlogs  \\\n",
       "0  Cathode Ray Tube Amusement Device       33     57        1        11   \n",
       "1                   Bertie the Brain        3      5        0         3   \n",
       "2                           Draughts        1      3        0         1   \n",
       "3                                OXO        9     25        0         6   \n",
       "4                               Pool        1      1        0         0   \n",
       "\n",
       "   wishlists  indie  \n",
       "0         28  False  \n",
       "1          3  False  \n",
       "2          0  False  \n",
       "3          7  False  \n",
       "4          0  False  "
      ]
     },
     "execution_count": 4,
     "metadata": {},
     "output_type": "execute_result"
    }
   ],
   "source": [
    "df.head()"
   ]
  },
  {
   "cell_type": "code",
   "execution_count": 5,
   "id": "715b9a84",
   "metadata": {
    "tags": []
   },
   "outputs": [
    {
     "data": {
      "text/html": [
       "<div>\n",
       "<style scoped>\n",
       "    .dataframe tbody tr th:only-of-type {\n",
       "        vertical-align: middle;\n",
       "    }\n",
       "\n",
       "    .dataframe tbody tr th {\n",
       "        vertical-align: top;\n",
       "    }\n",
       "\n",
       "    .dataframe thead th {\n",
       "        text-align: right;\n",
       "    }\n",
       "</style>\n",
       "<table border=\"1\" class=\"dataframe\">\n",
       "  <thead>\n",
       "    <tr style=\"text-align: right;\">\n",
       "      <th></th>\n",
       "      <th>name</th>\n",
       "      <th>date</th>\n",
       "      <th>developers</th>\n",
       "      <th>rating</th>\n",
       "      <th>platforms</th>\n",
       "      <th>genres</th>\n",
       "      <th>category</th>\n",
       "      <th>main</th>\n",
       "      <th>reviews</th>\n",
       "      <th>plays</th>\n",
       "      <th>playing</th>\n",
       "      <th>backlogs</th>\n",
       "      <th>wishlists</th>\n",
       "      <th>indie</th>\n",
       "    </tr>\n",
       "  </thead>\n",
       "  <tbody>\n",
       "    <tr>\n",
       "      <th>74816</th>\n",
       "      <td>Dragon Ball: Xenoverse 2 - Hero of Justice: Pa...</td>\n",
       "      <td>2023-05-11</td>\n",
       "      <td>[]</td>\n",
       "      <td>NaN</td>\n",
       "      <td>['Nintendo Switch']</td>\n",
       "      <td>['Adventure']</td>\n",
       "      <td>pack</td>\n",
       "      <td>Dragon Ball: Xenoverse 2</td>\n",
       "      <td>0</td>\n",
       "      <td>1</td>\n",
       "      <td>0</td>\n",
       "      <td>0</td>\n",
       "      <td>1</td>\n",
       "      <td>False</td>\n",
       "    </tr>\n",
       "    <tr>\n",
       "      <th>74817</th>\n",
       "      <td>Alone in the Dark Prologue: Grace in the Dark</td>\n",
       "      <td>2023-05-25</td>\n",
       "      <td>['THQ Nordic', 'Pieces Interactive']</td>\n",
       "      <td>2.7</td>\n",
       "      <td>['Windows PC', 'PlayStation 5', 'Xbox Series']</td>\n",
       "      <td>['Adventure']</td>\n",
       "      <td>pack</td>\n",
       "      <td>Alone in the Dark</td>\n",
       "      <td>28</td>\n",
       "      <td>76</td>\n",
       "      <td>1</td>\n",
       "      <td>13</td>\n",
       "      <td>15</td>\n",
       "      <td>False</td>\n",
       "    </tr>\n",
       "    <tr>\n",
       "      <th>74818</th>\n",
       "      <td>Etrian Odyssey III HD Character Set DLC</td>\n",
       "      <td>2023-06-01</td>\n",
       "      <td>['Sega', 'Atlus']</td>\n",
       "      <td>NaN</td>\n",
       "      <td>['Windows PC', 'Nintendo Switch']</td>\n",
       "      <td>['Adventure', 'RPG']</td>\n",
       "      <td>pack</td>\n",
       "      <td>Etrian Odyssey III HD</td>\n",
       "      <td>0</td>\n",
       "      <td>0</td>\n",
       "      <td>0</td>\n",
       "      <td>0</td>\n",
       "      <td>1</td>\n",
       "      <td>False</td>\n",
       "    </tr>\n",
       "    <tr>\n",
       "      <th>74819</th>\n",
       "      <td>Etrian Odyssey HD Character Set DLC</td>\n",
       "      <td>2023-06-01</td>\n",
       "      <td>['Sega', 'Atlus']</td>\n",
       "      <td>NaN</td>\n",
       "      <td>['Windows PC', 'Nintendo Switch']</td>\n",
       "      <td>['Adventure', 'RPG']</td>\n",
       "      <td>pack</td>\n",
       "      <td>Etrian Odyssey HD</td>\n",
       "      <td>1</td>\n",
       "      <td>1</td>\n",
       "      <td>0</td>\n",
       "      <td>0</td>\n",
       "      <td>1</td>\n",
       "      <td>False</td>\n",
       "    </tr>\n",
       "    <tr>\n",
       "      <th>74820</th>\n",
       "      <td>Etrian Odyssey II HD: Character Set DLC</td>\n",
       "      <td>2023-06-01</td>\n",
       "      <td>['Sega', 'Atlus']</td>\n",
       "      <td>NaN</td>\n",
       "      <td>['Windows PC', 'Nintendo Switch']</td>\n",
       "      <td>['Adventure', 'RPG']</td>\n",
       "      <td>pack</td>\n",
       "      <td>Etrian Odyssey II HD</td>\n",
       "      <td>0</td>\n",
       "      <td>0</td>\n",
       "      <td>0</td>\n",
       "      <td>0</td>\n",
       "      <td>1</td>\n",
       "      <td>False</td>\n",
       "    </tr>\n",
       "  </tbody>\n",
       "</table>\n",
       "</div>"
      ],
      "text/plain": [
       "                                                    name        date  \\\n",
       "74816  Dragon Ball: Xenoverse 2 - Hero of Justice: Pa...  2023-05-11   \n",
       "74817      Alone in the Dark Prologue: Grace in the Dark  2023-05-25   \n",
       "74818            Etrian Odyssey III HD Character Set DLC  2023-06-01   \n",
       "74819                Etrian Odyssey HD Character Set DLC  2023-06-01   \n",
       "74820            Etrian Odyssey II HD: Character Set DLC  2023-06-01   \n",
       "\n",
       "                                 developers  rating  \\\n",
       "74816                                    []     NaN   \n",
       "74817  ['THQ Nordic', 'Pieces Interactive']     2.7   \n",
       "74818                     ['Sega', 'Atlus']     NaN   \n",
       "74819                     ['Sega', 'Atlus']     NaN   \n",
       "74820                     ['Sega', 'Atlus']     NaN   \n",
       "\n",
       "                                            platforms                genres  \\\n",
       "74816                             ['Nintendo Switch']         ['Adventure']   \n",
       "74817  ['Windows PC', 'PlayStation 5', 'Xbox Series']         ['Adventure']   \n",
       "74818               ['Windows PC', 'Nintendo Switch']  ['Adventure', 'RPG']   \n",
       "74819               ['Windows PC', 'Nintendo Switch']  ['Adventure', 'RPG']   \n",
       "74820               ['Windows PC', 'Nintendo Switch']  ['Adventure', 'RPG']   \n",
       "\n",
       "      category                      main  reviews  plays  playing  backlogs  \\\n",
       "74816     pack  Dragon Ball: Xenoverse 2        0      1        0         0   \n",
       "74817     pack         Alone in the Dark       28     76        1        13   \n",
       "74818     pack     Etrian Odyssey III HD        0      0        0         0   \n",
       "74819     pack         Etrian Odyssey HD        1      1        0         0   \n",
       "74820     pack      Etrian Odyssey II HD        0      0        0         0   \n",
       "\n",
       "       wishlists  indie  \n",
       "74816          1  False  \n",
       "74817         15  False  \n",
       "74818          1  False  \n",
       "74819          1  False  \n",
       "74820          1  False  "
      ]
     },
     "execution_count": 5,
     "metadata": {},
     "output_type": "execute_result"
    }
   ],
   "source": [
    "df.tail()"
   ]
  },
  {
   "cell_type": "markdown",
   "id": "fc9dbe4e-2446-4b82-bf18-839111a851cc",
   "metadata": {},
   "source": [
    "Let\"s change the data types:\n",
    "- for the field **\"date\"** to the data type **\"datetime\"**;\n",
    "- for fields with **numeric data type**, reduce the precision to **32 bits**;\n",
    "- for the fields **\"developers\"**, **\"platforms\"**, **\"genres\"**, convert the literals to the **list** type."
   ]
  },
  {
   "cell_type": "code",
   "execution_count": 6,
   "id": "84661168",
   "metadata": {},
   "outputs": [
    {
     "data": {
      "text/plain": [
       "name           object\n",
       "date           object\n",
       "developers     object\n",
       "rating        float64\n",
       "platforms      object\n",
       "genres         object\n",
       "category       object\n",
       "main           object\n",
       "reviews         int64\n",
       "plays           int64\n",
       "playing         int64\n",
       "backlogs        int64\n",
       "wishlists       int64\n",
       "indie            bool\n",
       "dtype: object"
      ]
     },
     "execution_count": 6,
     "metadata": {},
     "output_type": "execute_result"
    }
   ],
   "source": [
    "df.dtypes"
   ]
  },
  {
   "cell_type": "code",
   "execution_count": 7,
   "id": "04ad27af",
   "metadata": {},
   "outputs": [
    {
     "data": {
      "text/plain": [
       "0   1947-12-31\n",
       "1   1950-08-25\n",
       "2   1952-08-31\n",
       "3   1952-12-31\n",
       "4   1954-06-26\n",
       "Name: date, dtype: datetime64[ns]"
      ]
     },
     "execution_count": 7,
     "metadata": {},
     "output_type": "execute_result"
    }
   ],
   "source": [
    "df[\"date\"] = pd.to_datetime(df[\"date\"], format='%Y-%m-%d')\n",
    "df[\"date\"].head()"
   ]
  },
  {
   "cell_type": "code",
   "execution_count": 8,
   "id": "ad9a19fc",
   "metadata": {},
   "outputs": [],
   "source": [
    "df = df.astype({\n",
    "    \"rating\": \"float32\",\n",
    "    \"plays\": \"int32\",\n",
    "    \"playing\": \"int32\",\n",
    "    \"backlogs\": \"int32\",\n",
    "    \"wishlists\": \"int32\",\n",
    "    \"reviews\": \"int32\"\n",
    "})"
   ]
  },
  {
   "cell_type": "code",
   "execution_count": 9,
   "id": "5ce45af9",
   "metadata": {},
   "outputs": [
    {
     "data": {
      "text/plain": [
       "name                  object\n",
       "date          datetime64[ns]\n",
       "developers            object\n",
       "rating               float32\n",
       "platforms             object\n",
       "genres                object\n",
       "category              object\n",
       "main                  object\n",
       "reviews                int32\n",
       "plays                  int32\n",
       "playing                int32\n",
       "backlogs               int32\n",
       "wishlists              int32\n",
       "indie                   bool\n",
       "dtype: object"
      ]
     },
     "execution_count": 9,
     "metadata": {},
     "output_type": "execute_result"
    }
   ],
   "source": [
    "df.dtypes"
   ]
  },
  {
   "cell_type": "code",
   "execution_count": 10,
   "id": "1df22325",
   "metadata": {},
   "outputs": [],
   "source": [
    "df[\"developers\"] = df[\"developers\"].apply(ast.literal_eval)\n",
    "df[\"platforms\"] = df[\"platforms\"].apply(ast.literal_eval)\n",
    "df[\"genres\"] = df[\"genres\"].apply(ast.literal_eval)"
   ]
  },
  {
   "cell_type": "markdown",
   "id": "8a9a7569",
   "metadata": {},
   "source": [
    "**Intermediate conclusions:**:\n",
    "\n",
    "- data read **correctly**;\n",
    "- **total** there are **14 fields** and **74821 records** in the dataset;\n",
    "- the dataset has the following data types: **bool(1)**, **float64(1)**, **int64(5)**, **object(7)**:\n",
    "- the dataset **contains empty records**;\n",
    "- for the **\"date\"** field, the data type has been changed to the **\"datetime\"** type, for fields that have a **numeric data type**, the accuracy has been reduced to **32 bits**, for the fields ** \"companies\"**, **\"platforms\"**, **\"genres\"** data converted to **list** type."
   ]
  },
  {
   "cell_type": "markdown",
   "id": "9eb183c6-89dd-4878-a5c3-757389f1b636",
   "metadata": {},
   "source": [
    "## <a id=estimation_distributions>Estimation of distributions</a>\n",
    "***"
   ]
  },
  {
   "cell_type": "code",
   "execution_count": 11,
   "id": "abd1a666-f34f-427c-b566-2fc28399a950",
   "metadata": {},
   "outputs": [],
   "source": [
    "sns.set_style('white')"
   ]
  },
  {
   "cell_type": "markdown",
   "id": "518e681c-4fe9-422e-8b8c-3f2318063eeb",
   "metadata": {},
   "source": [
    "### <a id=video_game_rating_distribution>Video game rating distribution</a>\n",
    "***"
   ]
  },
  {
   "cell_type": "markdown",
   "id": "5a68d2f1-9594-4ed4-9a4a-dfcfa2ad6669",
   "metadata": {},
   "source": [
    "We will evaluate the distribution of the rating of video games between independent variables using **one-way analysis of variance (ANOVA)**. For ANOVA results to be valid, the following **assumptions** must hold:\n",
    "1. **Normal distribution** - each sample was taken from a normally distributed population.\n",
    "2. **Equal variances** - the variances of the populations from which the samples are taken are equal.\n",
    "3. **Independence** - The observations in each group are independent of each other, and the observations within the groups were obtained by random sampling.\n",
    "\n",
    "Checking the normality of the ranking distribution will be tested by plotting a histogram and a Q-Q Plot. The equality of variances will be checked after receiving a pseudo-random sample using the Bartlett test."
   ]
  },
  {
   "cell_type": "markdown",
   "id": "17aa9ecc-04be-45ef-85f2-bbaf126b2b03",
   "metadata": {},
   "source": [
    "#### <a id=normal_distribution_test>Normal distribution test</a>\n",
    "***"
   ]
  },
  {
   "cell_type": "markdown",
   "id": "48e65c5f-076b-4ca5-971e-1322a614a1f7",
   "metadata": {},
   "source": [
    "Let's build a histogram and Q-Q Plot for a **visual assessment** of the distribution."
   ]
  },
  {
   "cell_type": "code",
   "execution_count": 12,
   "id": "158ffbb4-ad0e-439f-aaa5-676a027d7372",
   "metadata": {},
   "outputs": [
    {
     "data": {
      "text/plain": [
       "<matplotlib.legend.Legend at 0x1c009d57010>"
      ]
     },
     "execution_count": 12,
     "metadata": {},
     "output_type": "execute_result"
    },
    {
     "data": {
      "image/png": "[encoded data removed]",
      "text/plain": [
       "<Figure size 1500x500 with 2 Axes>"
      ]
     },
     "metadata": {},
     "output_type": "display_data"
    }
   ],
   "source": [
    "figure, grid = plt.figure(figsize=(15, 5)), GridSpec(1, 2, hspace=0.35)\n",
    "figure.add_subplot(grid[0, 0])\n",
    "figure.add_subplot(grid[0, 1])\n",
    "\n",
    "rating_distribution = df.loc[df[\"rating\"].notna(), \"rating\"]\n",
    "normal_distribution = np.random.normal(rating_distribution.mean(), rating_distribution.std(), rating_distribution.size)\n",
    "percentiles = np.linspace(0, 100, 31)\n",
    "rating, normal = np.percentile(rating_distribution, percentiles), np.percentile(normal_distribution, percentiles)\n",
    "\n",
    "sns.histplot(data=pd.concat([pd.DataFrame({\"value\": normal_distribution,\n",
    "                                           \"type\": ['theoretical']*normal_distribution.size}),\n",
    "                             pd.DataFrame({\"value\": df[\"rating\"],\n",
    "                                           \"type\": ['sample']*df[\"rating\"].size})]).reset_index(drop=True),\n",
    "             x=\"value\",\n",
    "             hue=\"type\",\n",
    "             bins=31,\n",
    "             kde=True,\n",
    "             ax=figure.axes[0], \n",
    "             palette=sns.color_palette('hls', 10)[6::2])\n",
    "\n",
    "\n",
    "sns.lineplot(x=normal, y=normal, ax=figure.axes[1], label='Normal distribution', color=sns.color_palette('hls', 10)[6])\n",
    "sns.scatterplot(x=normal, y=rating, ax=figure.axes[1], label='Rating distribution', color=sns.color_palette('hls', 10)[8])\n",
    "\n",
    "figure.suptitle('Distribution of data in the \"rating\" field', y=0.93)\n",
    "\n",
    "figure.axes[0].set_xlabel('Rating')\n",
    "figure.axes[0].set_xlim(0, 5)\n",
    "figure.axes[0].set_xbound(-0.5, 5.5)\n",
    "figure.axes[0].legend(figure.axes[0].get_legend().legend_handles, \n",
    "                      ['Normal distribution', 'Rating distribution'],\n",
    "                      title='',\n",
    "                      loc='upper left',\n",
    "                      alignment='left')\n",
    "\n",
    "figure.axes[1].set_xlabel('Theoretical percentiles')\n",
    "figure.axes[1].set_ylabel('Sample Percentiles')\n",
    "figure.axes[1].set_xlim(0, 5)\n",
    "figure.axes[1].set_ylim(0, 5)\n",
    "figure.axes[1].set_xbound(-0.5, 5.5)\n",
    "figure.axes[1].set_ybound((-0.5, 5.5))\n",
    "figure.axes[1].legend(alignment='left')"
   ]
  },
  {
   "cell_type": "markdown",
   "id": "5429a947-8db5-44cb-b683-64cdb5c45d94",
   "metadata": {},
   "source": [
    "By visual evaluation of the histogram and Q-Q Plot, it can be concluded that the distribution of video game rating data follows a distribution law that is **close to normal**."
   ]
  },
  {
   "cell_type": "markdown",
   "id": "37c1fe5e-a9e6-4f11-9fd5-f784ad12eb20",
   "metadata": {},
   "source": [
    "#### <a id=rating_distribution_by_genres>By genres</a>\n",
    "***"
   ]
  },
  {
   "cell_type": "markdown",
   "id": "538665ee-cb5f-4d5a-ac74-5313ba9e7e8c",
   "metadata": {},
   "source": [
    "\n",
    "For each genre from the top 10 in terms of the number of released video games, we will form **random samples** in the amount of **500** video games."
   ]
  },
  {
   "cell_type": "code",
   "execution_count": 195,
   "id": "6f785dc5-8af1-4f8f-a0b1-7f1c3a696f82",
   "metadata": {},
   "outputs": [],
   "source": [
    "data, samlpes = df.explode('genres'), pd.DataFrame(index=range(500))\n",
    "\n",
    "for genre in data.loc[df[\"category\"] == \"main\", \"genres\"].value_counts().iloc[:10].index:\n",
    "    row = data.loc[(data[\"category\"] == \"main\") & (data[\"genres\"] == genre) & (data[\"rating\"].notna()), \"rating\"].sample(500, random_state=100, ignore_index=True)\n",
    "    samlpes = samlpes.join(pd.DataFrame({genre: row}), how='inner')"
   ]
  },
  {
   "cell_type": "markdown",
   "id": "5c800025-4c08-46b8-aa5a-a662bf4b2033",
   "metadata": {},
   "source": [
    "Let's use the **Bartlett test** to test the samples for equality of variances. To do this, formulate the hypotheses of the main (**H0**) and alternative (**H1**) hypotheses:\n",
    "- **H0**: the variances of the populations from which the samples are taken are **equal**.\n",
    "- **H1**: the variances of the populations from which the samples are taken are **not equal**.\n",
    "\n",
    "Set the significance level to **0.05** and run the **Bartlett test**."
   ]
  },
  {
   "cell_type": "code",
   "execution_count": 197,
   "id": "e53d4176-eaff-49fc-82db-3a560074d345",
   "metadata": {},
   "outputs": [
    {
     "data": {
      "text/plain": [
       "BartlettResult(statistic=10.889723316047261, pvalue=0.2833436835655099)"
      ]
     },
     "execution_count": 197,
     "metadata": {},
     "output_type": "execute_result"
    }
   ],
   "source": [
    "stats.bartlett(*[samlpes[column] for column in samlpes.columns])"
   ]
  },
  {
   "cell_type": "markdown",
   "id": "4e980853-b5d0-49e4-8bde-6124d951423f",
   "metadata": {},
   "source": [
    "\n",
    "The p-value level is **0.28**. This means that **it is impossible to reject** the hypothesis H0 that the variances of the populations from which the samples were obtained are **equal**\n",
    "\n",
    "For ANOVA, we formulate the main (**H0**) and alternative (**H1**) hypotheses:\r\n",
    "- **H0**: means of the ratings of the populations from which the samples are taken are **equal**.\r\n",
    "- **H1**: means of the ratings of the populations from which the samples are taken are **not equal**.\r\n",
    "\r\n",
    "Set the significance level to **0.05** and do **ANOVA**.."
   ]
  },
  {
   "cell_type": "code",
   "execution_count": 199,
   "id": "60be4d0b-e435-4dd2-adec-bc718031e37e",
   "metadata": {},
   "outputs": [
    {
     "data": {
      "text/plain": [
       "F_onewayResult(statistic=11.361884036894088, pvalue=8.609762969184047e-18)"
      ]
     },
     "execution_count": 199,
     "metadata": {},
     "output_type": "execute_result"
    }
   ],
   "source": [
    "stats.f_oneway(*[samlpes[column] for column in samlpes.columns])"
   ]
  },
  {
   "cell_type": "markdown",
   "id": "3763b77a-86a6-44cb-9f16-8fca299073a1",
   "metadata": {},
   "source": [
    "\n",
    "The p-value level is **8.6e-18**. This means that one can **reject** the **H0** hypothesis that the averages of the video game ratings of the sampled populations are **equal**."
   ]
  },
  {
   "cell_type": "markdown",
   "id": "ec81cc8c",
   "metadata": {},
   "source": [
    "## <a id=conclusions>Conclusions</a>\n",
    "***"
   ]
  }
 ],
 "metadata": {
  "kernelspec": {
   "display_name": "Python 3 (ipykernel)",
   "language": "python",
   "name": "python3"
  },
  "language_info": {
   "codemirror_mode": {
    "name": "ipython",
    "version": 3
   },
   "file_extension": ".py",
   "mimetype": "text/x-python",
   "name": "python",
   "nbconvert_exporter": "python",
   "pygments_lexer": "ipython3",
   "version": "3.10.11"
  },
  "toc": {
   "base_numbering": 1,
   "nav_menu": {
    "height": "497px",
    "width": "317px"
   },
   "number_sections": true,
   "sideBar": true,
   "skip_h1_title": true,
   "title_cell": "Table of Contents",
   "title_sidebar": "Contents",
   "toc_cell": false,
   "toc_position": {
    "height": "calc(100% - 180px)",
    "left": "10px",
    "top": "150px",
    "width": "341px"
   },
   "toc_section_display": true,
   "toc_window_display": true
  },
  "toc-autonumbering": true,
  "toc-showcode": false,
  "toc-showmarkdowntxt": false,
  "toc-showtags": false,
  "varInspector": {
   "cols": {
    "lenName": 16,
    "lenType": 16,
    "lenVar": 40
   },
   "kernels_config": {
    "python": {
     "delete_cmd_postfix": "",
     "delete_cmd_prefix": "del ",
     "library": "var_list.py",
     "varRefreshCmd": "print(var_dic_list())"
    },
    "r": {
     "delete_cmd_postfix": ") ",
     "delete_cmd_prefix": "rm(",
     "library": "var_list.r",
     "varRefreshCmd": "cat(var_dic_list()) "
    }
   },
   "oldHeight": 180.844,
   "position": {
    "height": "202.844px",
    "left": "1509px",
    "right": "20px",
    "top": "115px",
    "width": "395px"
   },
   "types_to_exclude": [
    "module",
    "function",
    "builtin_function_or_method",
    "instance",
    "_Feature"
   ],
   "varInspector_section_display": "block",
   "window_display": true
  }
 },
 "nbformat": 4,
 "nbformat_minor": 5
}
