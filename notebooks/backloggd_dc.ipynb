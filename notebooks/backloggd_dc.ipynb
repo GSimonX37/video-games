{
 "cells": [
  {
   "cell_type": "markdown",
   "id": "9dde0064-cee9-4249-a0fd-7b8ba7835680",
   "metadata": {},
   "source": [
    "# Video games (backloggd.com)\n",
    "\n",
    "**Data cleaning (DC)**\n",
    "***"
   ]
  },
  {
   "cell_type": "markdown",
   "id": "53effed6-8867-43b7-89e5-4b49a0426697",
   "metadata": {},
   "source": [
    "**Data cleaning steps**:\n",
    "1. [Data overview](#data_overview).\n",
    "2. [Data cleaning](#data_cleaning).\n",
    "    - [Obvious_duplicates](#obvious_duplicates);\n",
    "    - [Not ascii characters](#not_ascii_characters);\n",
    "    - [Negative numbers](#negative_numbers);\n",
    "3. [Сonclusions](#conclusions).\n",
    "***"
   ]
  },
  {
   "cell_type": "code",
   "execution_count": 1,
   "id": "5c061443-ba4c-4df6-b309-05ad7b9cf342",
   "metadata": {},
   "outputs": [],
   "source": [
    "import matplotlib.pyplot as plt\n",
    "import numpy as np\n",
    "import pandas as pd\n",
    "import seaborn as sns\n",
    "\n",
    "from matplotlib.gridspec import GridSpec"
   ]
  },
  {
   "cell_type": "markdown",
   "id": "c42d937d-c30d-4b47-90bb-57d0d65f3b0c",
   "metadata": {
    "tags": []
   },
   "source": [
    "## <a id=data_overview>Data overview</a>\n",
    "***"
   ]
  },
  {
   "cell_type": "code",
   "execution_count": 2,
   "id": "657fd3cf-7cbe-4069-b170-91610c026363",
   "metadata": {},
   "outputs": [],
   "source": [
    "df = pd.read_csv(\"../data/backloggd/backloggd_raw.csv\", sep=';')"
   ]
  },
  {
   "cell_type": "code",
   "execution_count": 3,
   "id": "09da75f3-be11-4b33-a540-c1ad335fb0ab",
   "metadata": {},
   "outputs": [
    {
     "name": "stdout",
     "output_type": "stream",
     "text": [
      "<class 'pandas.core.frame.DataFrame'>\n",
      "RangeIndex: 47988 entries, 0 to 47987\n",
      "Data columns (total 14 columns):\n",
      " #   Column       Non-Null Count  Dtype  \n",
      "---  ------       --------------  -----  \n",
      " 0   name         47988 non-null  object \n",
      " 1   date         47980 non-null  object \n",
      " 2   developers   47988 non-null  object \n",
      " 3   rating       22592 non-null  float64\n",
      " 4   votes        47988 non-null  object \n",
      " 5   platforms    47988 non-null  object \n",
      " 6   genres       47988 non-null  object \n",
      " 7   category     47988 non-null  object \n",
      " 8   reviews      47896 non-null  float64\n",
      " 9   plays        47781 non-null  float64\n",
      " 10  playing      47781 non-null  float64\n",
      " 11  backlogs     47781 non-null  float64\n",
      " 12  wishlists    47781 non-null  float64\n",
      " 13  description  43750 non-null  object \n",
      "dtypes: float64(6), object(8)\n",
      "memory usage: 49.9 MB\n"
     ]
    }
   ],
   "source": [
    "df.info(memory_usage=\"deep\")"
   ]
  },
  {
   "cell_type": "code",
   "execution_count": 4,
   "id": "5e081cb5-0213-4d97-aae5-1fb0bf417209",
   "metadata": {},
   "outputs": [
    {
     "data": {
      "text/html": [
       "<div>\n",
       "<style scoped>\n",
       "    .dataframe tbody tr th:only-of-type {\n",
       "        vertical-align: middle;\n",
       "    }\n",
       "\n",
       "    .dataframe tbody tr th {\n",
       "        vertical-align: top;\n",
       "    }\n",
       "\n",
       "    .dataframe thead th {\n",
       "        text-align: right;\n",
       "    }\n",
       "</style>\n",
       "<table border=\"1\" class=\"dataframe\">\n",
       "  <thead>\n",
       "    <tr style=\"text-align: right;\">\n",
       "      <th></th>\n",
       "      <th>name</th>\n",
       "      <th>date</th>\n",
       "      <th>developers</th>\n",
       "      <th>rating</th>\n",
       "      <th>votes</th>\n",
       "      <th>platforms</th>\n",
       "      <th>genres</th>\n",
       "      <th>category</th>\n",
       "      <th>reviews</th>\n",
       "      <th>plays</th>\n",
       "      <th>playing</th>\n",
       "      <th>backlogs</th>\n",
       "      <th>wishlists</th>\n",
       "      <th>description</th>\n",
       "    </tr>\n",
       "  </thead>\n",
       "  <tbody>\n",
       "    <tr>\n",
       "      <th>0</th>\n",
       "      <td>Cathode Ray Tube Amusement Device</td>\n",
       "      <td>1947-12-31</td>\n",
       "      <td>[]</td>\n",
       "      <td>3.5</td>\n",
       "      <td>['8', '4', '0', '3', '6', '6', '1', '2', '1', ...</td>\n",
       "      <td>['Analogue electronics']</td>\n",
       "      <td>['Point-and-Click']</td>\n",
       "      <td>main</td>\n",
       "      <td>43.0</td>\n",
       "      <td>80.0</td>\n",
       "      <td>1.0</td>\n",
       "      <td>14.0</td>\n",
       "      <td>34.0</td>\n",
       "      <td>The cathode ray tube amusement device is the e...</td>\n",
       "    </tr>\n",
       "    <tr>\n",
       "      <th>1</th>\n",
       "      <td>Bertie the Brain</td>\n",
       "      <td>1950-08-25</td>\n",
       "      <td>['Josef Kates']</td>\n",
       "      <td>2.9</td>\n",
       "      <td>['0', '2', '0', '1', '0', '0', '1', '0', '0', ...</td>\n",
       "      <td>['Arcade']</td>\n",
       "      <td>['Puzzle', 'Tactical']</td>\n",
       "      <td>main</td>\n",
       "      <td>7.0</td>\n",
       "      <td>10.0</td>\n",
       "      <td>0.0</td>\n",
       "      <td>5.0</td>\n",
       "      <td>7.0</td>\n",
       "      <td>Currently considered the first videogame in hi...</td>\n",
       "    </tr>\n",
       "    <tr>\n",
       "      <th>2</th>\n",
       "      <td>Nim</td>\n",
       "      <td>1951-12-31</td>\n",
       "      <td>[]</td>\n",
       "      <td>NaN</td>\n",
       "      <td>['0', '1', '0', '0', '0', '1', '0', '0', '0', ...</td>\n",
       "      <td>['Ferranti Nimrod Computer']</td>\n",
       "      <td>['Pinball', 'Strategy']</td>\n",
       "      <td>main</td>\n",
       "      <td>1.0</td>\n",
       "      <td>2.0</td>\n",
       "      <td>0.0</td>\n",
       "      <td>1.0</td>\n",
       "      <td>0.0</td>\n",
       "      <td>The Nimrod was a special purpose computer that...</td>\n",
       "    </tr>\n",
       "    <tr>\n",
       "      <th>3</th>\n",
       "      <td>Draughts</td>\n",
       "      <td>1952-08-31</td>\n",
       "      <td>['Christopher Strachey']</td>\n",
       "      <td>1.2</td>\n",
       "      <td>['0', '2', '1', '0', '0', '0', '0', '0', '0', ...</td>\n",
       "      <td>['Legacy Computer']</td>\n",
       "      <td>['Card &amp; Board Game']</td>\n",
       "      <td>main</td>\n",
       "      <td>3.0</td>\n",
       "      <td>7.0</td>\n",
       "      <td>0.0</td>\n",
       "      <td>2.0</td>\n",
       "      <td>1.0</td>\n",
       "      <td>A game of draughts (a.k.a. checkers) written f...</td>\n",
       "    </tr>\n",
       "    <tr>\n",
       "      <th>4</th>\n",
       "      <td>OXO</td>\n",
       "      <td>1952-12-31</td>\n",
       "      <td>['Alexander Shafto \"Sandy\" Douglas', 'Universi...</td>\n",
       "      <td>3.0</td>\n",
       "      <td>['1', '4', '0', '1', '4', '1', '2', '0', '2', ...</td>\n",
       "      <td>['Windows PC', 'EDSAC']</td>\n",
       "      <td>['Puzzle', 'Strategy']</td>\n",
       "      <td>main</td>\n",
       "      <td>13.0</td>\n",
       "      <td>34.0</td>\n",
       "      <td>0.0</td>\n",
       "      <td>8.0</td>\n",
       "      <td>8.0</td>\n",
       "      <td>OXO was a computer game developed by Alexander...</td>\n",
       "    </tr>\n",
       "  </tbody>\n",
       "</table>\n",
       "</div>"
      ],
      "text/plain": [
       "                                name        date  \\\n",
       "0  Cathode Ray Tube Amusement Device  1947-12-31   \n",
       "1                   Bertie the Brain  1950-08-25   \n",
       "2                                Nim  1951-12-31   \n",
       "3                           Draughts  1952-08-31   \n",
       "4                                OXO  1952-12-31   \n",
       "\n",
       "                                          developers  rating  \\\n",
       "0                                                 []     3.5   \n",
       "1                                    ['Josef Kates']     2.9   \n",
       "2                                                 []     NaN   \n",
       "3                           ['Christopher Strachey']     1.2   \n",
       "4  ['Alexander Shafto \"Sandy\" Douglas', 'Universi...     3.0   \n",
       "\n",
       "                                               votes  \\\n",
       "0  ['8', '4', '0', '3', '6', '6', '1', '2', '1', ...   \n",
       "1  ['0', '2', '0', '1', '0', '0', '1', '0', '0', ...   \n",
       "2  ['0', '1', '0', '0', '0', '1', '0', '0', '0', ...   \n",
       "3  ['0', '2', '1', '0', '0', '0', '0', '0', '0', ...   \n",
       "4  ['1', '4', '0', '1', '4', '1', '2', '0', '2', ...   \n",
       "\n",
       "                      platforms                   genres category  reviews  \\\n",
       "0      ['Analogue electronics']      ['Point-and-Click']     main     43.0   \n",
       "1                    ['Arcade']   ['Puzzle', 'Tactical']     main      7.0   \n",
       "2  ['Ferranti Nimrod Computer']  ['Pinball', 'Strategy']     main      1.0   \n",
       "3           ['Legacy Computer']    ['Card & Board Game']     main      3.0   \n",
       "4       ['Windows PC', 'EDSAC']   ['Puzzle', 'Strategy']     main     13.0   \n",
       "\n",
       "   plays  playing  backlogs  wishlists  \\\n",
       "0   80.0      1.0      14.0       34.0   \n",
       "1   10.0      0.0       5.0        7.0   \n",
       "2    2.0      0.0       1.0        0.0   \n",
       "3    7.0      0.0       2.0        1.0   \n",
       "4   34.0      0.0       8.0        8.0   \n",
       "\n",
       "                                         description  \n",
       "0  The cathode ray tube amusement device is the e...  \n",
       "1  Currently considered the first videogame in hi...  \n",
       "2  The Nimrod was a special purpose computer that...  \n",
       "3  A game of draughts (a.k.a. checkers) written f...  \n",
       "4  OXO was a computer game developed by Alexander...  "
      ]
     },
     "execution_count": 4,
     "metadata": {},
     "output_type": "execute_result"
    }
   ],
   "source": [
    "df.head()"
   ]
  },
  {
   "cell_type": "code",
   "execution_count": 5,
   "id": "b1d01d30-a386-4652-a319-46c0df04c30e",
   "metadata": {
    "tags": []
   },
   "outputs": [
    {
     "data": {
      "text/html": [
       "<div>\n",
       "<style scoped>\n",
       "    .dataframe tbody tr th:only-of-type {\n",
       "        vertical-align: middle;\n",
       "    }\n",
       "\n",
       "    .dataframe tbody tr th {\n",
       "        vertical-align: top;\n",
       "    }\n",
       "\n",
       "    .dataframe thead th {\n",
       "        text-align: right;\n",
       "    }\n",
       "</style>\n",
       "<table border=\"1\" class=\"dataframe\">\n",
       "  <thead>\n",
       "    <tr style=\"text-align: right;\">\n",
       "      <th></th>\n",
       "      <th>name</th>\n",
       "      <th>date</th>\n",
       "      <th>developers</th>\n",
       "      <th>rating</th>\n",
       "      <th>votes</th>\n",
       "      <th>platforms</th>\n",
       "      <th>genres</th>\n",
       "      <th>category</th>\n",
       "      <th>reviews</th>\n",
       "      <th>plays</th>\n",
       "      <th>playing</th>\n",
       "      <th>backlogs</th>\n",
       "      <th>wishlists</th>\n",
       "      <th>description</th>\n",
       "    </tr>\n",
       "  </thead>\n",
       "  <tbody>\n",
       "    <tr>\n",
       "      <th>47983</th>\n",
       "      <td>The Legend of Zelda: Picross</td>\n",
       "      <td>2015-08-02</td>\n",
       "      <td>['Vincent Jouillat']</td>\n",
       "      <td>3.2</td>\n",
       "      <td>['1', '0', '0', '0', '1', '3', '3', '1', '0', ...</td>\n",
       "      <td>['Windows PC', 'Nintendo 3DS']</td>\n",
       "      <td>['Puzzle']</td>\n",
       "      <td>main</td>\n",
       "      <td>3.0</td>\n",
       "      <td>30.0</td>\n",
       "      <td>1.0</td>\n",
       "      <td>7.0</td>\n",
       "      <td>12.0</td>\n",
       "      <td>A picross fangame based on A Link to the Past,...</td>\n",
       "    </tr>\n",
       "    <tr>\n",
       "      <th>47984</th>\n",
       "      <td>Watch Dogs: Complete Edition</td>\n",
       "      <td>2015-08-02</td>\n",
       "      <td>['Ubisoft Entertainment', 'Ubisoft Montreal']</td>\n",
       "      <td>3.5</td>\n",
       "      <td>['2', '0', '0', '0', '5', '5', '20', '8', '9',...</td>\n",
       "      <td>['Windows PC', 'Wii U', 'Xbox 360', 'PlayStati...</td>\n",
       "      <td>['Adventure', 'Shooter']</td>\n",
       "      <td>main</td>\n",
       "      <td>7.0</td>\n",
       "      <td>90.0</td>\n",
       "      <td>2.0</td>\n",
       "      <td>32.0</td>\n",
       "      <td>8.0</td>\n",
       "      <td>Experience Watch_Dogs - the phenomenon of 2014...</td>\n",
       "    </tr>\n",
       "    <tr>\n",
       "      <th>47985</th>\n",
       "      <td>Doom &amp; Destiny Advanced</td>\n",
       "      <td>2015-08-03</td>\n",
       "      <td>['Heartbit Interactive']</td>\n",
       "      <td>3.0</td>\n",
       "      <td>['0', '0', '1', '0', '0', '3', '0', '0', '1', ...</td>\n",
       "      <td>['Windows PC', 'Android', 'Mac', 'Linux', 'iOS...</td>\n",
       "      <td>['Adventure', 'Indie', 'RPG']</td>\n",
       "      <td>main</td>\n",
       "      <td>0.0</td>\n",
       "      <td>8.0</td>\n",
       "      <td>0.0</td>\n",
       "      <td>10.0</td>\n",
       "      <td>3.0</td>\n",
       "      <td>Venture with the most nerdy anti-heroes of all...</td>\n",
       "    </tr>\n",
       "    <tr>\n",
       "      <th>47986</th>\n",
       "      <td>My Bones</td>\n",
       "      <td>2015-08-03</td>\n",
       "      <td>['GDNomad']</td>\n",
       "      <td>NaN</td>\n",
       "      <td>['0', '1', '0', '0', '0', '1', '0', '0', '0', ...</td>\n",
       "      <td>['Windows PC']</td>\n",
       "      <td>['Adventure', 'Indie']</td>\n",
       "      <td>main</td>\n",
       "      <td>2.0</td>\n",
       "      <td>4.0</td>\n",
       "      <td>0.0</td>\n",
       "      <td>1.0</td>\n",
       "      <td>2.0</td>\n",
       "      <td>It is a short but very interesting horror,abou...</td>\n",
       "    </tr>\n",
       "    <tr>\n",
       "      <th>47987</th>\n",
       "      <td>Submerged</td>\n",
       "      <td>2015-08-03</td>\n",
       "      <td>['Uppercut Games']</td>\n",
       "      <td>2.5</td>\n",
       "      <td>['9', '6', '12', '25', '25', '24', '16', '9', ...</td>\n",
       "      <td>['Windows PC', 'PlayStation 4', 'iOS', 'Xbox O...</td>\n",
       "      <td>['Adventure', 'Indie', 'Platform', 'Puzzle']</td>\n",
       "      <td>main</td>\n",
       "      <td>13.0</td>\n",
       "      <td>194.0</td>\n",
       "      <td>1.0</td>\n",
       "      <td>108.0</td>\n",
       "      <td>36.0</td>\n",
       "      <td>Submerged is a third-person combat-free game i...</td>\n",
       "    </tr>\n",
       "  </tbody>\n",
       "</table>\n",
       "</div>"
      ],
      "text/plain": [
       "                               name        date  \\\n",
       "47983  The Legend of Zelda: Picross  2015-08-02   \n",
       "47984  Watch Dogs: Complete Edition  2015-08-02   \n",
       "47985       Doom & Destiny Advanced  2015-08-03   \n",
       "47986                      My Bones  2015-08-03   \n",
       "47987                     Submerged  2015-08-03   \n",
       "\n",
       "                                          developers  rating  \\\n",
       "47983                           ['Vincent Jouillat']     3.2   \n",
       "47984  ['Ubisoft Entertainment', 'Ubisoft Montreal']     3.5   \n",
       "47985                       ['Heartbit Interactive']     3.0   \n",
       "47986                                    ['GDNomad']     NaN   \n",
       "47987                             ['Uppercut Games']     2.5   \n",
       "\n",
       "                                                   votes  \\\n",
       "47983  ['1', '0', '0', '0', '1', '3', '3', '1', '0', ...   \n",
       "47984  ['2', '0', '0', '0', '5', '5', '20', '8', '9',...   \n",
       "47985  ['0', '0', '1', '0', '0', '3', '0', '0', '1', ...   \n",
       "47986  ['0', '1', '0', '0', '0', '1', '0', '0', '0', ...   \n",
       "47987  ['9', '6', '12', '25', '25', '24', '16', '9', ...   \n",
       "\n",
       "                                               platforms  \\\n",
       "47983                     ['Windows PC', 'Nintendo 3DS']   \n",
       "47984  ['Windows PC', 'Wii U', 'Xbox 360', 'PlayStati...   \n",
       "47985  ['Windows PC', 'Android', 'Mac', 'Linux', 'iOS...   \n",
       "47986                                     ['Windows PC']   \n",
       "47987  ['Windows PC', 'PlayStation 4', 'iOS', 'Xbox O...   \n",
       "\n",
       "                                             genres category  reviews  plays  \\\n",
       "47983                                    ['Puzzle']     main      3.0   30.0   \n",
       "47984                      ['Adventure', 'Shooter']     main      7.0   90.0   \n",
       "47985                 ['Adventure', 'Indie', 'RPG']     main      0.0    8.0   \n",
       "47986                        ['Adventure', 'Indie']     main      2.0    4.0   \n",
       "47987  ['Adventure', 'Indie', 'Platform', 'Puzzle']     main     13.0  194.0   \n",
       "\n",
       "       playing  backlogs  wishlists  \\\n",
       "47983      1.0       7.0       12.0   \n",
       "47984      2.0      32.0        8.0   \n",
       "47985      0.0      10.0        3.0   \n",
       "47986      0.0       1.0        2.0   \n",
       "47987      1.0     108.0       36.0   \n",
       "\n",
       "                                             description  \n",
       "47983  A picross fangame based on A Link to the Past,...  \n",
       "47984  Experience Watch_Dogs - the phenomenon of 2014...  \n",
       "47985  Venture with the most nerdy anti-heroes of all...  \n",
       "47986  It is a short but very interesting horror,abou...  \n",
       "47987  Submerged is a third-person combat-free game i...  "
      ]
     },
     "execution_count": 5,
     "metadata": {},
     "output_type": "execute_result"
    }
   ],
   "source": [
    "df.tail()"
   ]
  },
  {
   "cell_type": "markdown",
   "id": "41c4d025-3e9a-4503-867d-02ffb5cdf54a",
   "metadata": {},
   "source": [
    "**Intermediate conclusions:**:\n",
    "\n",
    "- data read **correctly**;\n",
    "- **total** there are **14 fields** and **... records** in the dataset;\n",
    "- the dataset has the following data types: **float64(6)**, **object(8)**:\n",
    "- the dataset **contains empty records**."
   ]
  },
  {
   "cell_type": "markdown",
   "id": "c1f0bc9f-6fc4-4320-947f-73f4f64264bb",
   "metadata": {},
   "source": [
    "## <a id=data cleaning>Data cleaning</a>\n",
    "***"
   ]
  },
  {
   "cell_type": "code",
   "execution_count": 6,
   "id": "b4442710-b4bd-480f-9ac8-1fd330adaff7",
   "metadata": {},
   "outputs": [],
   "source": [
    "cleaning_results = pd.DataFrame(columns=['deleted', '%'])\n",
    "cleaning_results.index.name = 'step'\n",
    "total_records = df.shape[0]"
   ]
  },
  {
   "cell_type": "markdown",
   "id": "f82ef2b1-8678-4f9e-857e-b34e0cde7527",
   "metadata": {},
   "source": [
    "### <a id=obvious_duplicates>Obvious_duplicates</a>\n",
    "***"
   ]
  },
  {
   "cell_type": "code",
   "execution_count": 7,
   "id": "0d8febfb-58ad-4074-a10f-50919692b2e4",
   "metadata": {},
   "outputs": [
    {
     "name": "stdout",
     "output_type": "stream",
     "text": [
      "4627 - 9.64%\n"
     ]
    }
   ],
   "source": [
    "print(f'{df.duplicated().sum()} - {df.duplicated().sum() / total_records:.2%}')"
   ]
  },
  {
   "cell_type": "code",
   "execution_count": 8,
   "id": "9824a526-6620-4e1a-afae-2526b1ad85d8",
   "metadata": {},
   "outputs": [],
   "source": [
    "cleaning_results.loc[\"duplicates\", \"deleted\"] = df.duplicated().sum()\n",
    "cleaning_results.loc[\"duplicates\", \"%\"] = df.duplicated().sum() / total_records"
   ]
  },
  {
   "cell_type": "code",
   "execution_count": 9,
   "id": "15d7ea9f-a454-4bc3-a6be-176cae8dc323",
   "metadata": {},
   "outputs": [],
   "source": [
    "df = df.drop_duplicates()"
   ]
  },
  {
   "cell_type": "markdown",
   "id": "b42e9402-b10c-4d0d-a8f4-a3e6f5302624",
   "metadata": {},
   "source": [
    "### <a id=not_ascii_characters>Not ascii characters</a>\n",
    "***"
   ]
  },
  {
   "cell_type": "code",
   "execution_count": 11,
   "id": "bac26d7a-a3ca-4250-ba44-41ea2df0142b",
   "metadata": {},
   "outputs": [],
   "source": [
    "not_ascii = df.loc[(~df[\"name\"].apply(lambda x: x.isascii())) | \n",
    "                   (~df[\"developers\"].apply(lambda x: x.isascii())) | \n",
    "                   (~df[\"description\"].apply(lambda x: isinstance(x, str) and \n",
    "                                      x.isascii() or \n",
    "                                      not isinstance(x, str))), [\"name\", \"developers\", \"description\"]]"
   ]
  },
  {
   "cell_type": "code",
   "execution_count": 12,
   "id": "1f671136-6868-4613-b1ac-ee5a0797d0b1",
   "metadata": {},
   "outputs": [
    {
     "name": "stdout",
     "output_type": "stream",
     "text": [
      "4406 - 9.18%\n"
     ]
    }
   ],
   "source": [
    "print(f'{not_ascii.shape[0]} - {not_ascii.shape[0] / total_records:.2%}')"
   ]
  },
  {
   "cell_type": "code",
   "execution_count": 13,
   "id": "a4f18158-de2d-49c6-a645-1baa0d2622b0",
   "metadata": {},
   "outputs": [],
   "source": [
    "cleaning_results.loc[\"not_ascii\", \"deleted\"] = not_ascii.shape[0]\n",
    "cleaning_results.loc[\"not_ascii\", \"%\"] = not_ascii.shape[0] / total_records"
   ]
  },
  {
   "cell_type": "code",
   "execution_count": 14,
   "id": "eeec20c7-39db-40d6-9599-4bc3c606853c",
   "metadata": {},
   "outputs": [],
   "source": [
    "df = df.loc[(df[\"name\"].apply(lambda x: x.isascii())) | \n",
    "            (df[\"developers\"].apply(lambda x: x.isascii())) | \n",
    "            (df[\"description\"].apply(lambda x: isinstance(x, str) and\n",
    "                                     x.isascii() or \n",
    "                                     not isinstance(x, str)))]"
   ]
  },
  {
   "cell_type": "markdown",
   "id": "f31e57ae-ed88-4f4a-9ee0-e393f558fa0e",
   "metadata": {},
   "source": [
    "### <a id=negative_numbers>Negative numbers</a>\n",
    "***"
   ]
  },
  {
   "cell_type": "code",
   "execution_count": 18,
   "id": "98e319b2-aecc-45b4-aa08-486dfe67d6ce",
   "metadata": {},
   "outputs": [
    {
     "data": {
      "text/html": [
       "<div>\n",
       "<style scoped>\n",
       "    .dataframe tbody tr th:only-of-type {\n",
       "        vertical-align: middle;\n",
       "    }\n",
       "\n",
       "    .dataframe tbody tr th {\n",
       "        vertical-align: top;\n",
       "    }\n",
       "\n",
       "    .dataframe thead th {\n",
       "        text-align: right;\n",
       "    }\n",
       "</style>\n",
       "<table border=\"1\" class=\"dataframe\">\n",
       "  <thead>\n",
       "    <tr style=\"text-align: right;\">\n",
       "      <th></th>\n",
       "      <th>name</th>\n",
       "      <th>date</th>\n",
       "      <th>developers</th>\n",
       "      <th>rating</th>\n",
       "      <th>votes</th>\n",
       "      <th>platforms</th>\n",
       "      <th>genres</th>\n",
       "      <th>category</th>\n",
       "      <th>reviews</th>\n",
       "      <th>plays</th>\n",
       "      <th>playing</th>\n",
       "      <th>backlogs</th>\n",
       "      <th>wishlists</th>\n",
       "      <th>description</th>\n",
       "    </tr>\n",
       "  </thead>\n",
       "  <tbody>\n",
       "    <tr>\n",
       "      <th>23422</th>\n",
       "      <td>CT Special Forces: Back to Hell</td>\n",
       "      <td>2003-10-01</td>\n",
       "      <td>['Flashpoint Productions', 'Light &amp; Shadow Pro...</td>\n",
       "      <td>NaN</td>\n",
       "      <td>['0', '0', '0', '0', '0', '0', '0', '0', '0', ...</td>\n",
       "      <td>['PlayStation']</td>\n",
       "      <td>['Shooter']</td>\n",
       "      <td>main</td>\n",
       "      <td>0.0</td>\n",
       "      <td>-1.0</td>\n",
       "      <td>0.0</td>\n",
       "      <td>3.0</td>\n",
       "      <td>3.0</td>\n",
       "      <td>Intelligence agencies are mentioning an increa...</td>\n",
       "    </tr>\n",
       "    <tr>\n",
       "      <th>32386</th>\n",
       "      <td>Mytran Wars</td>\n",
       "      <td>2009-04-17</td>\n",
       "      <td>[]</td>\n",
       "      <td>NaN</td>\n",
       "      <td>['0', '0', '0', '0', '0', '0', '0', '0', '0', ...</td>\n",
       "      <td>['PlayStation Portable']</td>\n",
       "      <td>['Strategy']</td>\n",
       "      <td>main</td>\n",
       "      <td>0.0</td>\n",
       "      <td>-1.0</td>\n",
       "      <td>0.0</td>\n",
       "      <td>1.0</td>\n",
       "      <td>2.0</td>\n",
       "      <td>It's the 23rd century the Earth's natural reso...</td>\n",
       "    </tr>\n",
       "    <tr>\n",
       "      <th>38659</th>\n",
       "      <td>Nomolos: Storming the Catsle</td>\n",
       "      <td>2012-03-15</td>\n",
       "      <td>['Gradual Games', 'RetroUSB']</td>\n",
       "      <td>NaN</td>\n",
       "      <td>['0', '0', '0', '0', '0', '0', '0', '0', '0', ...</td>\n",
       "      <td>['NES']</td>\n",
       "      <td>['Platform']</td>\n",
       "      <td>main</td>\n",
       "      <td>0.0</td>\n",
       "      <td>-1.0</td>\n",
       "      <td>0.0</td>\n",
       "      <td>2.0</td>\n",
       "      <td>0.0</td>\n",
       "      <td>Nomolos is a platformer for the Nintendo Enter...</td>\n",
       "    </tr>\n",
       "    <tr>\n",
       "      <th>46349</th>\n",
       "      <td>Belladonna</td>\n",
       "      <td>2015-02-27</td>\n",
       "      <td>['Neckbolt']</td>\n",
       "      <td>2.7</td>\n",
       "      <td>['0', '1', '1', '2', '1', '5', '2', '1', '0', ...</td>\n",
       "      <td>['Windows PC']</td>\n",
       "      <td>['Adventure', 'Indie', 'Point-and-Click']</td>\n",
       "      <td>main</td>\n",
       "      <td>5.0</td>\n",
       "      <td>18.0</td>\n",
       "      <td>-1.0</td>\n",
       "      <td>6.0</td>\n",
       "      <td>2.0</td>\n",
       "      <td>Belladonna is a gothic adventure game, twisted...</td>\n",
       "    </tr>\n",
       "  </tbody>\n",
       "</table>\n",
       "</div>"
      ],
      "text/plain": [
       "                                  name        date  \\\n",
       "23422  CT Special Forces: Back to Hell  2003-10-01   \n",
       "32386                      Mytran Wars  2009-04-17   \n",
       "38659     Nomolos: Storming the Catsle  2012-03-15   \n",
       "46349                       Belladonna  2015-02-27   \n",
       "\n",
       "                                              developers  rating  \\\n",
       "23422  ['Flashpoint Productions', 'Light & Shadow Pro...     NaN   \n",
       "32386                                                 []     NaN   \n",
       "38659                      ['Gradual Games', 'RetroUSB']     NaN   \n",
       "46349                                       ['Neckbolt']     2.7   \n",
       "\n",
       "                                                   votes  \\\n",
       "23422  ['0', '0', '0', '0', '0', '0', '0', '0', '0', ...   \n",
       "32386  ['0', '0', '0', '0', '0', '0', '0', '0', '0', ...   \n",
       "38659  ['0', '0', '0', '0', '0', '0', '0', '0', '0', ...   \n",
       "46349  ['0', '1', '1', '2', '1', '5', '2', '1', '0', ...   \n",
       "\n",
       "                      platforms                                     genres  \\\n",
       "23422           ['PlayStation']                                ['Shooter']   \n",
       "32386  ['PlayStation Portable']                               ['Strategy']   \n",
       "38659                   ['NES']                               ['Platform']   \n",
       "46349            ['Windows PC']  ['Adventure', 'Indie', 'Point-and-Click']   \n",
       "\n",
       "      category  reviews  plays  playing  backlogs  wishlists  \\\n",
       "23422     main      0.0   -1.0      0.0       3.0        3.0   \n",
       "32386     main      0.0   -1.0      0.0       1.0        2.0   \n",
       "38659     main      0.0   -1.0      0.0       2.0        0.0   \n",
       "46349     main      5.0   18.0     -1.0       6.0        2.0   \n",
       "\n",
       "                                             description  \n",
       "23422  Intelligence agencies are mentioning an increa...  \n",
       "32386  It's the 23rd century the Earth's natural reso...  \n",
       "38659  Nomolos is a platformer for the Nintendo Enter...  \n",
       "46349  Belladonna is a gothic adventure game, twisted...  "
      ]
     },
     "execution_count": 18,
     "metadata": {},
     "output_type": "execute_result"
    }
   ],
   "source": [
    "negative_numbers = df[(df[\"reviews\"] < 0) | \n",
    "                      (df[\"plays\"] < 0)| \n",
    "                      (df[\"playing\"] < 0) | \n",
    "                      (df[\"backlogs\"] < 0) | \n",
    "                      (df[\"wishlists\"] < 0)]\n",
    "negative_numbers"
   ]
  },
  {
   "cell_type": "code",
   "execution_count": 19,
   "id": "b1d10d73-b59b-4365-8444-ad797134dcd1",
   "metadata": {},
   "outputs": [
    {
     "name": "stdout",
     "output_type": "stream",
     "text": [
      "4 - 0.01%\n"
     ]
    }
   ],
   "source": [
    "print(f'{negative_numbers.shape[0]} - {negative_numbers.shape[0] / total_records:.2%}')"
   ]
  },
  {
   "cell_type": "code",
   "execution_count": 20,
   "id": "cd652dbb-6b55-4c1e-8624-e14b078136a9",
   "metadata": {},
   "outputs": [],
   "source": [
    "cleaning_results.loc[\"negative_numbers\", \"deleted\"] = negative_numbers.shape[0]\n",
    "cleaning_results.loc[\"negative_numbers\", \"%\"] = negative_numbers.shape[0] / total_records"
   ]
  },
  {
   "cell_type": "code",
   "execution_count": 21,
   "id": "64a201ea-0500-477b-933f-8f027d4ee19c",
   "metadata": {},
   "outputs": [],
   "source": [
    "df = df[(df[\"reviews\"] > 0) &\n",
    "        (df[\"plays\"] > 0) & \n",
    "        (df[\"playing\"] > 0) &\n",
    "        (df[\"backlogs\"] > 0) & \n",
    "        (df[\"wishlists\"] > 0)]"
   ]
  },
  {
   "cell_type": "markdown",
   "id": "a574400c-8d72-4a45-9e47-4118fa64e4dc",
   "metadata": {},
   "source": [
    "## <a id=conclusions>Сonclusions</a>\n",
    "***"
   ]
  },
  {
   "cell_type": "code",
   "execution_count": 23,
   "id": "3fe0eb0d-d7be-4f00-925e-3536d4047001",
   "metadata": {},
   "outputs": [],
   "source": [
    "cleaning_results.loc[\"total\", \"deleted\"] = cleaning_results[\"deleted\"].sum()\n",
    "cleaning_results.loc[\"total\", \"%\"] = cleaning_results[\"%\"].sum()"
   ]
  },
  {
   "cell_type": "code",
   "execution_count": 24,
   "id": "96544ac7-3e5c-42a0-ba2a-c6e9e22c5a3c",
   "metadata": {},
   "outputs": [
    {
     "data": {
      "text/html": [
       "<style type=\"text/css\">\n",
       "</style>\n",
       "<table id=\"T_b600a\">\n",
       "  <thead>\n",
       "    <tr>\n",
       "      <th class=\"blank level0\" >&nbsp;</th>\n",
       "      <th id=\"T_b600a_level0_col0\" class=\"col_heading level0 col0\" >deleted</th>\n",
       "      <th id=\"T_b600a_level0_col1\" class=\"col_heading level0 col1\" >%</th>\n",
       "    </tr>\n",
       "    <tr>\n",
       "      <th class=\"index_name level0\" >step</th>\n",
       "      <th class=\"blank col0\" >&nbsp;</th>\n",
       "      <th class=\"blank col1\" >&nbsp;</th>\n",
       "    </tr>\n",
       "  </thead>\n",
       "  <tbody>\n",
       "    <tr>\n",
       "      <th id=\"T_b600a_level0_row0\" class=\"row_heading level0 row0\" >duplicates</th>\n",
       "      <td id=\"T_b600a_row0_col0\" class=\"data row0 col0\" >4627</td>\n",
       "      <td id=\"T_b600a_row0_col1\" class=\"data row0 col1\" >9.64%</td>\n",
       "    </tr>\n",
       "    <tr>\n",
       "      <th id=\"T_b600a_level0_row1\" class=\"row_heading level0 row1\" >not_ascii</th>\n",
       "      <td id=\"T_b600a_row1_col0\" class=\"data row1 col0\" >4406</td>\n",
       "      <td id=\"T_b600a_row1_col1\" class=\"data row1 col1\" >9.18%</td>\n",
       "    </tr>\n",
       "    <tr>\n",
       "      <th id=\"T_b600a_level0_row2\" class=\"row_heading level0 row2\" >negative_numbers</th>\n",
       "      <td id=\"T_b600a_row2_col0\" class=\"data row2 col0\" >4</td>\n",
       "      <td id=\"T_b600a_row2_col1\" class=\"data row2 col1\" >0.01%</td>\n",
       "    </tr>\n",
       "    <tr>\n",
       "      <th id=\"T_b600a_level0_row3\" class=\"row_heading level0 row3\" >total</th>\n",
       "      <td id=\"T_b600a_row3_col0\" class=\"data row3 col0\" >9037</td>\n",
       "      <td id=\"T_b600a_row3_col1\" class=\"data row3 col1\" >18.83%</td>\n",
       "    </tr>\n",
       "  </tbody>\n",
       "</table>\n"
      ],
      "text/plain": [
       "<pandas.io.formats.style.Styler at 0x20fd7e69cc0>"
      ]
     },
     "execution_count": 24,
     "metadata": {},
     "output_type": "execute_result"
    }
   ],
   "source": [
    "(cleaning_results\n",
    " .style\n",
    " .format(lambda x: f'{x:.2%}', subset='%')\n",
    " )"
   ]
  }
 ],
 "metadata": {
  "kernelspec": {
   "display_name": "Python 3 (ipykernel)",
   "language": "python",
   "name": "python3"
  },
  "language_info": {
   "codemirror_mode": {
    "name": "ipython",
    "version": 3
   },
   "file_extension": ".py",
   "mimetype": "text/x-python",
   "name": "python",
   "nbconvert_exporter": "python",
   "pygments_lexer": "ipython3",
   "version": "3.10.11"
  }
 },
 "nbformat": 4,
 "nbformat_minor": 5
}
